{
 "cells": [
  {
   "cell_type": "code",
   "execution_count": 1,
   "id": "183497d9-a9e1-49a6-962e-ee3f2005f1da",
   "metadata": {},
   "outputs": [
    {
     "name": "stderr",
     "output_type": "stream",
     "text": [
      "<frozen importlib._bootstrap>:219: RuntimeWarning: scipy._lib.messagestream.MessageStream size changed, may indicate binary incompatibility. Expected 56 from C header, got 64 from PyObject\n"
     ]
    }
   ],
   "source": [
    "from matplotlib.pyplot import *\n",
    "\n",
    "# Importing standard Qiskit libraries\n",
    "from qiskit import QuantumCircuit, transpile, Aer, IBMQ\n",
    "from qiskit.tools.jupyter import *\n",
    "from qiskit.visualization import *\n",
    "from ibm_quantum_widgets import *\n",
    "from qiskit.providers.aer import QasmSimulator\n",
    "\n",
    "from qiskit import QuantumRegister, ClassicalRegister\n",
    "from qiskit import QuantumCircuit, Aer, transpile, assemble, execute\n",
    "\n",
    "# Loading your IBM Quantum account(s)\n",
    "IBMQ.load_account()\n",
    "provider = IBMQ.get_provider(hub='ibm-q')\n",
    "\n",
    "from qiskit.test.mock import FakeMelbourne\n",
    "device = FakeMelbourne()\n"
   ]
  },
  {
   "cell_type": "code",
   "execution_count": 2,
   "id": "0851fd85-ebc1-4df1-8cc4-2a84e7de24e1",
   "metadata": {},
   "outputs": [],
   "source": [
    "from numpy import linspace\n",
    "P=linspace(0,1,21)\n",
    "fid1=[]\n",
    "fid2=[]"
   ]
  },
  {
   "cell_type": "code",
   "execution_count": 3,
   "id": "887681ca-64f3-42aa-8ec4-d4cf257c4639",
   "metadata": {},
   "outputs": [],
   "source": [
    "for p in P:\n",
    "    f=0\n",
    "    for q1 in range(2):\n",
    "        for q2 in range(2):\n",
    "            a=[\"I\",\"I\"]\n",
    "            qc=QuantumCircuit(2,2)\n",
    "            qc.h(0)\n",
    "            qc.cx(0,1)\n",
    "            qc.barrier()\n",
    "            if q1:\n",
    "                a[0]=\"X\"\n",
    "                qc.x(0)\n",
    "            if q2:\n",
    "                a[1]=\"X\"\n",
    "                qc.x(1)\n",
    "            qc.barrier()\n",
    "            qc.cx(0,1)\n",
    "            qc.h(0)\n",
    "            qc.barrier()\n",
    "            qc.measure([0,1],[0,1])\n",
    "            res= execute(qc, backend=device, shots=1024).result().get_counts()\n",
    "             \n",
    "            try:\n",
    "                q= res['00']/1024\n",
    "            except:\n",
    "                q=0\n",
    "            k=0\n",
    "            for b in a:\n",
    "                if b== \"X\":\n",
    "                    k=k+1\n",
    "            f=f+q*(p**k)*((1-p)**(2-k))\n",
    "    fid1.append(f)\n",
    "            "
   ]
  },
  {
   "cell_type": "code",
   "execution_count": 4,
   "id": "77e51d8a-c68c-42b0-8bba-bcc388ecbe1b",
   "metadata": {},
   "outputs": [],
   "source": [
    "f1= (1-P)**2+P**2"
   ]
  },
  {
   "cell_type": "code",
   "execution_count": 5,
   "id": "37dfc850-8657-43dd-9423-7e40e997799c",
   "metadata": {},
   "outputs": [
    {
     "data": {
      "text/plain": [
       "<matplotlib.legend.Legend at 0x7f8ed7f2aa90>"
      ]
     },
     "execution_count": 5,
     "metadata": {},
     "output_type": "execute_result"
    },
    {
     "data": {
      "image/png": "[encoded data removed]",
      "text/plain": [
       "<Figure size 432x288 with 1 Axes>"
      ]
     },
     "metadata": {
      "needs_background": "light"
     },
     "output_type": "display_data"
    }
   ],
   "source": [
    "plot(P,fid1, label= \"Experimental\")\n",
    "plot(P,f1, label= \"Theoretical\")\n",
    "title(\"Fidelity in bit flip channel\")\n",
    "xlabel(\"Bit flip probability\")\n",
    "ylabel(\"Fidelity\")\n",
    "grid()\n",
    "legend()"
   ]
  },
  {
   "cell_type": "code",
   "execution_count": 6,
   "id": "f76ccc15-94e2-4656-9abc-a4ace32cfcd1",
   "metadata": {},
   "outputs": [],
   "source": [
    "f2= (1-P)**6+P**6+6*P*((1-P)**5)+9*(P**2)*((1-P)**4)+9*(P**4)*((1-P)**2)+6*(P**5)*(1-P)"
   ]
  },
  {
   "cell_type": "code",
   "execution_count": 7,
   "id": "19a57e13-29a8-4478-a86b-7e461611ff99",
   "metadata": {},
   "outputs": [],
   "source": [
    "from qiskit.providers.aer.noise import NoiseModel\n",
    "from qiskit.providers.aer.noise.errors import pauli_error, depolarizing_error\n",
    "\n",
    "def get_noise(p):\n",
    "\n",
    "    error_meas = pauli_error([('X',p), ('I', 1 - p)])\n",
    "\n",
    "    noise_model = NoiseModel()\n",
    "    noise_model.add_all_qubit_quantum_error(error_meas, \"measure\") # measurement error is applied to measurements\n",
    "        \n",
    "    return noise_model"
   ]
  },
  {
   "cell_type": "code",
   "execution_count": 9,
   "id": "bc2477c3-ef2f-41f6-b8d7-ad56da09c784",
   "metadata": {},
   "outputs": [],
   "source": [
    "from qiskit.ignis.mitigation.measurement import (complete_meas_cal,\n",
    "                                                 CompleteMeasFitter, \n",
    "                                                 MeasurementFilter)\n",
    "\n",
    "aer_sim = Aer.get_backend('aer_simulator')"
   ]
  },
  {
   "cell_type": "code",
   "execution_count": null,
   "id": "60f9716f-271e-41b9-8b18-795e528eaad9",
   "metadata": {},
   "outputs": [],
   "source": []
  },
  {
   "cell_type": "code",
   "execution_count": null,
   "id": "00dbfeb6-5785-41f7-9e11-fcd633650029",
   "metadata": {},
   "outputs": [],
   "source": [
    "fid2= []\n",
    "fid2.append([1,2])\n",
    "fid2= []\n",
    "results=[]\n",
    "\n",
    "for p in P:\n",
    "    f=0\n",
    "    for q1 in range(2):\n",
    "        for q2 in range(2):\n",
    "            for q3 in range(2):\n",
    "                for q4 in range(2):\n",
    "                    for q5 in range(2):\n",
    "                        for q6 in range(2):\n",
    "                            #a=[\"I\",\"I\",\"I\",\"I\",\"I\",\"I\"]\n",
    "                            cr= ClassicalRegister(2,\"bell_basis_measurement\")\n",
    "                            alice_qubit= QuantumRegister(1, 'alice__qubit')\n",
    "                            bob_qubit= QuantumRegister(1, 'bob__qubit')\n",
    "                            lq1= QuantumRegister(2, 'logical_qubit_alice')\n",
    "                            lq2= QuantumRegister(2,'logical_qubit_bob')\n",
    "                            \n",
    "                            repetation_code_qc= QuantumCircuit(alice_qubit,lq1,bob_qubit,lq2,cr)\n",
    "                            \n",
    "                            repetation_code_qc.h(alice_qubit[0])\n",
    "                            repetation_code_qc.cx(alice_qubit[0],bob_qubit[0])\n",
    "                            repetation_code_qc.barrier()\n",
    "                            repetation_code_qc.cx(alice_qubit[0],lq1[0])\n",
    "                            repetation_code_qc.cx(alice_qubit[0],lq1[1])\n",
    "                            repetation_code_qc.cx(bob_qubit[0],lq2[0])\n",
    "                            repetation_code_qc.cx(bob_qubit[0],lq2[1])\n",
    "                            repetation_code_qc.barrier()\n",
    "                            \n",
    "                            #if q1:\n",
    "                                #repetation_code_qc.x(alice_qubit[0])\n",
    "                                #a[0]=\"X\"\n",
    "                            #if q2:\n",
    "                                #repetation_code_qc.x(lq1[0])\n",
    "                                #a[1]=\"X\"\n",
    "                            #if q3:\n",
    "                                #repetation_code_qc.x(lq1[1])\n",
    "                                #a[2]=\"X\"\n",
    "                            #if q4:\n",
    "                                #repetation_code_qc.x(bob_qubit[0])\n",
    "                                #a[3]=\"X\"\n",
    "                            #if q5:\n",
    "                                #repetation_code_qc.x(lq2[0])\n",
    "                                #a[4]=\"X\"\n",
    "                            #if q6:\n",
    "                                #repetation_code_qc.x(lq2[1])\n",
    "                                #a[5]=\"X\"\n",
    "                                \n",
    "                            #repetation_code_qc.barrier()\n",
    "                            \n",
    "                            repetation_code_qc.cx(alice_qubit[0], lq1[0])\n",
    "                            repetation_code_qc.cx(alice_qubit[0], lq1[1])\n",
    "                            repetation_code_qc.ccx(lq1[0], lq1[1], alice_qubit[0])\n",
    "                            \n",
    "                            repetation_code_qc.cx(bob_qubit[0], lq2[0])\n",
    "                            repetation_code_qc.cx(bob_qubit[0], lq2[1])\n",
    "                            repetation_code_qc.ccx(lq2[0], lq2[1], bob_qubit[0])\n",
    "                            \n",
    "                            repetation_code_qc.barrier()\n",
    "                            repetation_code_qc.cx(alice_qubit[0],bob_qubit[0])\n",
    "                            repetation_code_qc.h(alice_qubit[0])\n",
    "                            repetation_code_qc.barrier()\n",
    "                            repetation_code_qc.measure([alice_qubit[0], bob_qubit[0]],cr)\n",
    "                            \n",
    "                            result= execute(repetation_code_qc, backend=device, shots=1024).result()\n",
    "                            # Error Mitigation \n",
    "                            meas_calibs, state_labels = complete_meas_cal(qr=repetation_code_qc.qregs[0], circlabel='mcal')\n",
    "                            t_qc = transpile(meas_calibs, aer_sim)\n",
    "                            qobj = assemble(t_qc, shots=10000)\n",
    "                            cal_results = aer_sim.run(qobj, shots=10000).result()\n",
    "                            meas_fitter = CompleteMeasFitter(cal_results, state_labels, circlabel='mcal')\n",
    "                            mitigated_result = meas_filter.apply(result)\n",
    "                            mitigated_counts = mitigated_result.get_counts(circuit)\n",
    "\n",
    "                            #results.append(result)\n",
    "                            try:\n",
    "                                q= mitigated_counts['00']/1024\n",
    "                            except:\n",
    "                                q=0\n",
    "                            k=0\n",
    "                            for b in a:\n",
    "                                if b== \"X\":\n",
    "                                    k=k+1\n",
    "                            f=f+q*(p**k)*((1-p)**(6-k))\n",
    "    fid2.append(f)\n",
    "                            "
   ]
  },
  {
   "cell_type": "code",
   "execution_count": null,
   "id": "f562a8c7-f3bd-44c5-bd78-3b514af18452",
   "metadata": {},
   "outputs": [],
   "source": [
    "plot(P, fid2)"
   ]
  },
  {
   "cell_type": "code",
   "execution_count": null,
   "id": "f99a5d8d-d8a6-4e04-a519-3ddc7c411acc",
   "metadata": {},
   "outputs": [],
   "source": [
    "plot(P,fid2, label= \"Experimental\")\n",
    "plot(P,f2, label= \"Theoretical\")\n",
    "title(\"Fidelity after 3 qubit repetation code under bit flip channel\")\n",
    "xlabel(\"Bit flip probability\")\n",
    "ylabel(\"Fidelity\")\n",
    "grid()\n",
    "legend()"
   ]
  },
  {
   "cell_type": "code",
   "execution_count": null,
   "id": "b5a093b2-f868-4c32-9db8-1019194c34ff",
   "metadata": {},
   "outputs": [],
   "source": [
    "plot(P,fid1,label=\"without error correction\")\n",
    "plot(P,fid2, label=\"Repetation Code\")\n",
    "legend()\n",
    "title(\"Experimental result of 3-qubit repetation code\")\n",
    "xlabel(\"Bit flip probability\")\n",
    "ylabel(\"Fidelity\")\n",
    "grid()"
   ]
  },
  {
   "cell_type": "raw",
   "id": "2310501b-f5b8-4f3b-bfdd-dce49f5445d5",
   "metadata": {},
   "source": [
    "print(result)"
   ]
  },
  {
   "cell_type": "code",
   "execution_count": null,
   "id": "2bbacee6-ae19-4db4-8f90-f39a1e8f94bf",
   "metadata": {},
   "outputs": [],
   "source": []
  }
 ],
 "metadata": {
  "kernelspec": {
   "display_name": "Qiskit v0.35.0 (ipykernel)",
   "language": "python",
   "name": "python3"
  },
  "language_info": {
   "codemirror_mode": {
    "name": "ipython",
    "version": 3
   },
   "file_extension": ".py",
   "mimetype": "text/x-python",
   "name": "python",
   "nbconvert_exporter": "python",
   "pygments_lexer": "ipython3",
   "version": "3.8.13"
  },
  "widgets": {
   "application/vnd.jupyter.widget-state+json": {
    "state": {
     "0c76e599fc984e128bbaf0c2c8a5dba0": {
      "model_module": "@jupyter-widgets/controls",
      "model_module_version": "1.5.0",
      "model_name": "GridBoxModel",
      "state": {
       "children": [
        "IPY_MODEL_5c24459344084c3a81248179528bfab0"
       ],
       "layout": "IPY_MODEL_e182f30f33f44486ba28fca4d8caa9f7"
      }
     },
     "16cc951df9954812aa1770bbabcfcb71": {
      "model_module": "@jupyter-widgets/base",
      "model_module_version": "1.2.0",
      "model_name": "LayoutModel",
      "state": {
       "width": "95px"
      }
     },
     "189edc4b2746494995d03d4228f6c32f": {
      "model_module": "@jupyter-widgets/controls",
      "model_module_version": "1.5.0",
      "model_name": "DescriptionStyleModel",
      "state": {
       "description_width": ""
      }
     },
     "2320100843d2429bb14d0658450e24c0": {
      "model_module": "@jupyter-widgets/base",
      "model_module_version": "1.2.0",
      "model_name": "LayoutModel",
      "state": {
       "margin": "0px 0px 0px 37px",
       "width": "600px"
      }
     },
     "2abfc4f07bfb4decb2f69c4b35675618": {
      "model_module": "@jupyter-widgets/base",
      "model_module_version": "1.2.0",
      "model_name": "LayoutModel",
      "state": {
       "width": "145px"
      }
     },
     "402bfb816b3a491b9144c8963af1b281": {
      "model_module": "@jupyter-widgets/controls",
      "model_module_version": "1.5.0",
      "model_name": "DescriptionStyleModel",
      "state": {
       "description_width": ""
      }
     },
     "447f53e78c4846809e3b8776e7a83be9": {
      "model_module": "@jupyter-widgets/controls",
      "model_module_version": "1.5.0",
      "model_name": "HTMLModel",
      "state": {
       "layout": "IPY_MODEL_7a5db7731f784beb81bb79cfaa121fba",
       "style": "IPY_MODEL_189edc4b2746494995d03d4228f6c32f",
       "value": "<h5>Queue</h5>"
      }
     },
     "4fcb483ea22e488499edd03c57142aed": {
      "model_module": "@jupyter-widgets/controls",
      "model_module_version": "1.5.0",
      "model_name": "HTMLModel",
      "state": {
       "layout": "IPY_MODEL_5f0c8ab0dbc942169bf2b1cefe93c9df",
       "style": "IPY_MODEL_c6861375a2e64f33818909274dd42722",
       "value": "<h5>Message</h5>"
      }
     },
     "50ec32f5dedf4acd81cb13a09963d5bd": {
      "model_module": "@jupyter-widgets/controls",
      "model_module_version": "1.5.0",
      "model_name": "HTMLModel",
      "state": {
       "layout": "IPY_MODEL_16cc951df9954812aa1770bbabcfcb71",
       "style": "IPY_MODEL_8b0998742a3744939f77887dd446ae65",
       "value": "<h5>Status</h5>"
      }
     },
     "54570d566edb42fbb1e3d46950051b6b": {
      "model_module": "@jupyter-widgets/base",
      "model_module_version": "1.2.0",
      "model_name": "LayoutModel",
      "state": {
       "width": "190px"
      }
     },
     "5c24459344084c3a81248179528bfab0": {
      "model_module": "@jupyter-widgets/controls",
      "model_module_version": "1.5.0",
      "model_name": "ButtonModel",
      "state": {
       "button_style": "primary",
       "description": "Clear",
       "layout": "IPY_MODEL_6991f224c5d24000a2679fc988c522c1",
       "style": "IPY_MODEL_d03ba1ea61bb4f15988d233f3d163a9a"
      }
     },
     "5f0c8ab0dbc942169bf2b1cefe93c9df": {
      "model_module": "@jupyter-widgets/base",
      "model_module_version": "1.2.0",
      "model_name": "LayoutModel",
      "state": {}
     },
     "6991f224c5d24000a2679fc988c522c1": {
      "model_module": "@jupyter-widgets/base",
      "model_module_version": "1.2.0",
      "model_name": "LayoutModel",
      "state": {
       "grid_area": "right",
       "padding": "0px 0px 0px 0px",
       "width": "70px"
      }
     },
     "6b64280836fa4652a13ee08c25c8bdca": {
      "model_module": "@jupyter-widgets/controls",
      "model_module_version": "1.5.0",
      "model_name": "HTMLModel",
      "state": {
       "layout": "IPY_MODEL_54570d566edb42fbb1e3d46950051b6b",
       "style": "IPY_MODEL_b08bd15de7c840299700fa0c4f228e3f",
       "value": "<h5>Job ID</h5>"
      }
     },
     "7a5db7731f784beb81bb79cfaa121fba": {
      "model_module": "@jupyter-widgets/base",
      "model_module_version": "1.2.0",
      "model_name": "LayoutModel",
      "state": {
       "width": "70px"
      }
     },
     "8b0998742a3744939f77887dd446ae65": {
      "model_module": "@jupyter-widgets/controls",
      "model_module_version": "1.5.0",
      "model_name": "DescriptionStyleModel",
      "state": {
       "description_width": ""
      }
     },
     "9375fc75570f4949a391fe96f9f287c2": {
      "model_module": "@jupyter-widgets/controls",
      "model_module_version": "1.5.0",
      "model_name": "HTMLModel",
      "state": {
       "layout": "IPY_MODEL_be371194456c4375aac2c0cd32af8018",
       "style": "IPY_MODEL_9e036838bbcf415e8c8d5a88173a06a5",
       "value": "<p style='font-family: IBM Plex Sans, Arial, Helvetica, sans-serif; font-size: 20px; font-weight: medium;'>Circuit Properties</p>"
      }
     },
     "9e036838bbcf415e8c8d5a88173a06a5": {
      "model_module": "@jupyter-widgets/controls",
      "model_module_version": "1.5.0",
      "model_name": "DescriptionStyleModel",
      "state": {
       "description_width": ""
      }
     },
     "a4f09979dd2f44a7a609610d63a9d3fd": {
      "model_module": "@jupyter-widgets/controls",
      "model_module_version": "1.5.0",
      "model_name": "HTMLModel",
      "state": {
       "layout": "IPY_MODEL_2abfc4f07bfb4decb2f69c4b35675618",
       "style": "IPY_MODEL_402bfb816b3a491b9144c8963af1b281",
       "value": "<h5>Backend</h5>"
      }
     },
     "b08bd15de7c840299700fa0c4f228e3f": {
      "model_module": "@jupyter-widgets/controls",
      "model_module_version": "1.5.0",
      "model_name": "DescriptionStyleModel",
      "state": {
       "description_width": ""
      }
     },
     "b596514d245043e6bddea6baf39a97fa": {
      "model_module": "@jupyter-widgets/controls",
      "model_module_version": "1.5.0",
      "model_name": "HBoxModel",
      "state": {
       "children": [
        "IPY_MODEL_6b64280836fa4652a13ee08c25c8bdca",
        "IPY_MODEL_a4f09979dd2f44a7a609610d63a9d3fd",
        "IPY_MODEL_50ec32f5dedf4acd81cb13a09963d5bd",
        "IPY_MODEL_447f53e78c4846809e3b8776e7a83be9",
        "IPY_MODEL_4fcb483ea22e488499edd03c57142aed"
       ],
       "layout": "IPY_MODEL_2320100843d2429bb14d0658450e24c0"
      }
     },
     "be371194456c4375aac2c0cd32af8018": {
      "model_module": "@jupyter-widgets/base",
      "model_module_version": "1.2.0",
      "model_name": "LayoutModel",
      "state": {
       "margin": "0px 0px 10px 0px"
      }
     },
     "c6861375a2e64f33818909274dd42722": {
      "model_module": "@jupyter-widgets/controls",
      "model_module_version": "1.5.0",
      "model_name": "DescriptionStyleModel",
      "state": {
       "description_width": ""
      }
     },
     "d03ba1ea61bb4f15988d233f3d163a9a": {
      "model_module": "@jupyter-widgets/controls",
      "model_module_version": "1.5.0",
      "model_name": "ButtonStyleModel",
      "state": {}
     },
     "e182f30f33f44486ba28fca4d8caa9f7": {
      "model_module": "@jupyter-widgets/base",
      "model_module_version": "1.2.0",
      "model_name": "LayoutModel",
      "state": {
       "grid_template_areas": "\n                                       \". . . . right \"\n                                        ",
       "grid_template_columns": "20% 20% 20% 20% 20%",
       "width": "100%"
      }
     }
    },
    "version_major": 2,
    "version_minor": 0
   }
  }
 },
 "nbformat": 4,
 "nbformat_minor": 5
}
